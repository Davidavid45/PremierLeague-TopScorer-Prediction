{
 "cells": [
  {
   "cell_type": "code",
   "execution_count": 399,
   "metadata": {},
   "outputs": [],
   "source": [
    "import pandas as pd\n",
    "import numpy as np\n",
    "import tensorflow as tf\n",
    "from sklearn.model_selection import train_test_split\n",
    "from sklearn.preprocessing import StandardScaler\n",
    "from janitor import clean_names\n",
    "import pydot\n",
    "import graphviz\n"
   ]
  },
  {
   "cell_type": "code",
   "execution_count": 400,
   "metadata": {},
   "outputs": [],
   "source": [
    "data = pd.read_csv('combined_file.csv')\n",
    "data = data.rename(columns={'Goals_x': 'goal_per_game', 'Goals_y': 'total_goals'})\n",
    "data = clean_names(data)"
   ]
  },
  {
   "cell_type": "code",
   "execution_count": 401,
   "metadata": {},
   "outputs": [
    {
     "data": {
      "text/html": [
       "<div>\n",
       "<style scoped>\n",
       "    .dataframe tbody tr th:only-of-type {\n",
       "        vertical-align: middle;\n",
       "    }\n",
       "\n",
       "    .dataframe tbody tr th {\n",
       "        vertical-align: top;\n",
       "    }\n",
       "\n",
       "    .dataframe thead th {\n",
       "        text-align: right;\n",
       "    }\n",
       "</style>\n",
       "<table border=\"1\" class=\"dataframe\">\n",
       "  <thead>\n",
       "    <tr style=\"text-align: right;\">\n",
       "      <th></th>\n",
       "      <th>unnamed_0</th>\n",
       "      <th>player</th>\n",
       "      <th>pos</th>\n",
       "      <th>team</th>\n",
       "      <th>pts</th>\n",
       "      <th>cr</th>\n",
       "      <th>plus</th>\n",
       "      <th>apps</th>\n",
       "      <th>starter</th>\n",
       "      <th>mins</th>\n",
       "      <th>...</th>\n",
       "      <th>fouls</th>\n",
       "      <th>was_fouled</th>\n",
       "      <th>yc</th>\n",
       "      <th>rc</th>\n",
       "      <th>rec_ball</th>\n",
       "      <th>tackles</th>\n",
       "      <th>clean_sheets</th>\n",
       "      <th>saves</th>\n",
       "      <th>total_goals</th>\n",
       "      <th>top_10_scorer</th>\n",
       "    </tr>\n",
       "  </thead>\n",
       "  <tbody>\n",
       "    <tr>\n",
       "      <th>0</th>\n",
       "      <td>0</td>\n",
       "      <td>B. Chilwell</td>\n",
       "      <td>Defender</td>\n",
       "      <td>CHE</td>\n",
       "      <td>35.38</td>\n",
       "      <td>15.4</td>\n",
       "      <td>0.9</td>\n",
       "      <td>6</td>\n",
       "      <td>6</td>\n",
       "      <td>540</td>\n",
       "      <td>...</td>\n",
       "      <td>1.67</td>\n",
       "      <td>2.50</td>\n",
       "      <td>0.00</td>\n",
       "      <td>0.0</td>\n",
       "      <td>1.17</td>\n",
       "      <td>1.33</td>\n",
       "      <td>0.67</td>\n",
       "      <td>0.0</td>\n",
       "      <td>3</td>\n",
       "      <td>No</td>\n",
       "    </tr>\n",
       "    <tr>\n",
       "      <th>1</th>\n",
       "      <td>1</td>\n",
       "      <td>T. Alexander-Arnold</td>\n",
       "      <td>Defender</td>\n",
       "      <td>LIV</td>\n",
       "      <td>32.66</td>\n",
       "      <td>20.2</td>\n",
       "      <td>3.5</td>\n",
       "      <td>17</td>\n",
       "      <td>17</td>\n",
       "      <td>1504</td>\n",
       "      <td>...</td>\n",
       "      <td>0.29</td>\n",
       "      <td>0.29</td>\n",
       "      <td>0.06</td>\n",
       "      <td>0.0</td>\n",
       "      <td>2.29</td>\n",
       "      <td>1.29</td>\n",
       "      <td>0.59</td>\n",
       "      <td>0.0</td>\n",
       "      <td>2</td>\n",
       "      <td>No</td>\n",
       "    </tr>\n",
       "    <tr>\n",
       "      <th>2</th>\n",
       "      <td>2</td>\n",
       "      <td>Joao Cancelo</td>\n",
       "      <td>Defender</td>\n",
       "      <td>MCI</td>\n",
       "      <td>31.33</td>\n",
       "      <td>21.9</td>\n",
       "      <td>4.3</td>\n",
       "      <td>18</td>\n",
       "      <td>18</td>\n",
       "      <td>1608</td>\n",
       "      <td>...</td>\n",
       "      <td>0.89</td>\n",
       "      <td>0.44</td>\n",
       "      <td>0.28</td>\n",
       "      <td>0.0</td>\n",
       "      <td>3.28</td>\n",
       "      <td>2.00</td>\n",
       "      <td>0.56</td>\n",
       "      <td>0.0</td>\n",
       "      <td>1</td>\n",
       "      <td>No</td>\n",
       "    </tr>\n",
       "    <tr>\n",
       "      <th>3</th>\n",
       "      <td>3</td>\n",
       "      <td>M. Sarr</td>\n",
       "      <td>Defender</td>\n",
       "      <td>CHE</td>\n",
       "      <td>30.40</td>\n",
       "      <td>5.1</td>\n",
       "      <td>-0.4</td>\n",
       "      <td>1</td>\n",
       "      <td>1</td>\n",
       "      <td>90</td>\n",
       "      <td>...</td>\n",
       "      <td>0.00</td>\n",
       "      <td>0.00</td>\n",
       "      <td>0.00</td>\n",
       "      <td>0.0</td>\n",
       "      <td>7.00</td>\n",
       "      <td>3.00</td>\n",
       "      <td>1.00</td>\n",
       "      <td>0.0</td>\n",
       "      <td>0</td>\n",
       "      <td>No</td>\n",
       "    </tr>\n",
       "    <tr>\n",
       "      <th>4</th>\n",
       "      <td>4</td>\n",
       "      <td>Mohamed Salah</td>\n",
       "      <td>Attacker</td>\n",
       "      <td>LIV</td>\n",
       "      <td>30.09</td>\n",
       "      <td>19.3</td>\n",
       "      <td>-0.5</td>\n",
       "      <td>19</td>\n",
       "      <td>19</td>\n",
       "      <td>1693</td>\n",
       "      <td>...</td>\n",
       "      <td>0.32</td>\n",
       "      <td>0.74</td>\n",
       "      <td>0.05</td>\n",
       "      <td>0.0</td>\n",
       "      <td>0.42</td>\n",
       "      <td>0.47</td>\n",
       "      <td>0.58</td>\n",
       "      <td>0.0</td>\n",
       "      <td>23</td>\n",
       "      <td>Yes</td>\n",
       "    </tr>\n",
       "  </tbody>\n",
       "</table>\n",
       "<p>5 rows × 28 columns</p>\n",
       "</div>"
      ],
      "text/plain": [
       "   unnamed_0               player       pos team    pts    cr  plus  apps  \\\n",
       "0          0          B. Chilwell  Defender  CHE  35.38  15.4   0.9     6   \n",
       "1          1  T. Alexander-Arnold  Defender  LIV  32.66  20.2   3.5    17   \n",
       "2          2         Joao Cancelo  Defender  MCI  31.33  21.9   4.3    18   \n",
       "3          3              M. Sarr  Defender  CHE  30.40   5.1  -0.4     1   \n",
       "4          4        Mohamed Salah  Attacker  LIV  30.09  19.3  -0.5    19   \n",
       "\n",
       "   starter  mins  ...  fouls  was_fouled    yc   rc  rec_ball  tackles  \\\n",
       "0        6   540  ...   1.67        2.50  0.00  0.0      1.17     1.33   \n",
       "1       17  1504  ...   0.29        0.29  0.06  0.0      2.29     1.29   \n",
       "2       18  1608  ...   0.89        0.44  0.28  0.0      3.28     2.00   \n",
       "3        1    90  ...   0.00        0.00  0.00  0.0      7.00     3.00   \n",
       "4       19  1693  ...   0.32        0.74  0.05  0.0      0.42     0.47   \n",
       "\n",
       "   clean_sheets  saves  total_goals  top_10_scorer  \n",
       "0          0.67    0.0            3             No  \n",
       "1          0.59    0.0            2             No  \n",
       "2          0.56    0.0            1             No  \n",
       "3          1.00    0.0            0             No  \n",
       "4          0.58    0.0           23            Yes  \n",
       "\n",
       "[5 rows x 28 columns]"
      ]
     },
     "execution_count": 401,
     "metadata": {},
     "output_type": "execute_result"
    }
   ],
   "source": [
    "data.head()"
   ]
  },
  {
   "cell_type": "code",
   "execution_count": 402,
   "metadata": {},
   "outputs": [
    {
     "name": "stdout",
     "output_type": "stream",
     "text": [
      "Index(['unnamed_0', 'player', 'pos', 'team', 'pts', 'cr', 'plus', 'apps',\n",
      "       'starter', 'mins', 'goal_per_game', 'shots', 'on_tar_shots',\n",
      "       'pen_goals', 'successful_dribbles', 'ast', 'acc_pass', 'key_pass',\n",
      "       'fouls', 'was_fouled', 'yc', 'rc', 'rec_ball', 'tackles',\n",
      "       'clean_sheets', 'saves', 'total_goals', 'top_10_scorer'],\n",
      "      dtype='object')\n"
     ]
    }
   ],
   "source": [
    "df = data.drop([\"unnamed_0\",\"player\", \"team\" ,\"pts\", \"top_10_scorer\"], axis=1)\n",
    "data['total_goals'] = pd.to_numeric(data['total_goals'])\n",
    "print(data.columns)"
   ]
  },
  {
   "cell_type": "code",
   "execution_count": 403,
   "metadata": {},
   "outputs": [
    {
     "name": "stdout",
     "output_type": "stream",
     "text": [
      "Index(['pos', 'cr', 'plus', 'apps', 'starter', 'mins', 'goal_per_game',\n",
      "       'shots', 'on_tar_shots', 'pen_goals', 'successful_dribbles', 'ast',\n",
      "       'acc_pass', 'key_pass', 'fouls', 'was_fouled', 'yc', 'rc', 'rec_ball',\n",
      "       'tackles', 'clean_sheets', 'saves', 'total_goals'],\n",
      "      dtype='object')\n"
     ]
    }
   ],
   "source": [
    "print(df.columns)"
   ]
  },
  {
   "cell_type": "code",
   "execution_count": 404,
   "metadata": {},
   "outputs": [],
   "source": [
    "df = df.drop(['goal_per_game','mins'], axis=1)"
   ]
  },
  {
   "cell_type": "code",
   "execution_count": 405,
   "metadata": {},
   "outputs": [
    {
     "data": {
      "text/html": [
       "<div>\n",
       "<style scoped>\n",
       "    .dataframe tbody tr th:only-of-type {\n",
       "        vertical-align: middle;\n",
       "    }\n",
       "\n",
       "    .dataframe tbody tr th {\n",
       "        vertical-align: top;\n",
       "    }\n",
       "\n",
       "    .dataframe thead th {\n",
       "        text-align: right;\n",
       "    }\n",
       "</style>\n",
       "<table border=\"1\" class=\"dataframe\">\n",
       "  <thead>\n",
       "    <tr style=\"text-align: right;\">\n",
       "      <th></th>\n",
       "      <th>pos</th>\n",
       "      <th>cr</th>\n",
       "      <th>plus</th>\n",
       "      <th>apps</th>\n",
       "      <th>starter</th>\n",
       "      <th>shots</th>\n",
       "      <th>on_tar_shots</th>\n",
       "      <th>pen_goals</th>\n",
       "      <th>successful_dribbles</th>\n",
       "      <th>ast</th>\n",
       "      <th>...</th>\n",
       "      <th>key_pass</th>\n",
       "      <th>fouls</th>\n",
       "      <th>was_fouled</th>\n",
       "      <th>yc</th>\n",
       "      <th>rc</th>\n",
       "      <th>rec_ball</th>\n",
       "      <th>tackles</th>\n",
       "      <th>clean_sheets</th>\n",
       "      <th>saves</th>\n",
       "      <th>total_goals</th>\n",
       "    </tr>\n",
       "  </thead>\n",
       "  <tbody>\n",
       "    <tr>\n",
       "      <th>0</th>\n",
       "      <td>Defender</td>\n",
       "      <td>15.4</td>\n",
       "      <td>0.9</td>\n",
       "      <td>6</td>\n",
       "      <td>6</td>\n",
       "      <td>2.17</td>\n",
       "      <td>1.00</td>\n",
       "      <td>0.00</td>\n",
       "      <td>0.50</td>\n",
       "      <td>0.17</td>\n",
       "      <td>...</td>\n",
       "      <td>1.67</td>\n",
       "      <td>1.67</td>\n",
       "      <td>2.50</td>\n",
       "      <td>0.00</td>\n",
       "      <td>0.0</td>\n",
       "      <td>1.17</td>\n",
       "      <td>1.33</td>\n",
       "      <td>0.67</td>\n",
       "      <td>0.0</td>\n",
       "      <td>3</td>\n",
       "    </tr>\n",
       "    <tr>\n",
       "      <th>1</th>\n",
       "      <td>Defender</td>\n",
       "      <td>20.2</td>\n",
       "      <td>3.5</td>\n",
       "      <td>17</td>\n",
       "      <td>17</td>\n",
       "      <td>1.65</td>\n",
       "      <td>0.59</td>\n",
       "      <td>0.00</td>\n",
       "      <td>0.47</td>\n",
       "      <td>0.47</td>\n",
       "      <td>...</td>\n",
       "      <td>3.12</td>\n",
       "      <td>0.29</td>\n",
       "      <td>0.29</td>\n",
       "      <td>0.06</td>\n",
       "      <td>0.0</td>\n",
       "      <td>2.29</td>\n",
       "      <td>1.29</td>\n",
       "      <td>0.59</td>\n",
       "      <td>0.0</td>\n",
       "      <td>2</td>\n",
       "    </tr>\n",
       "    <tr>\n",
       "      <th>2</th>\n",
       "      <td>Defender</td>\n",
       "      <td>21.9</td>\n",
       "      <td>4.3</td>\n",
       "      <td>18</td>\n",
       "      <td>18</td>\n",
       "      <td>2.22</td>\n",
       "      <td>0.83</td>\n",
       "      <td>0.00</td>\n",
       "      <td>1.22</td>\n",
       "      <td>0.22</td>\n",
       "      <td>...</td>\n",
       "      <td>1.11</td>\n",
       "      <td>0.89</td>\n",
       "      <td>0.44</td>\n",
       "      <td>0.28</td>\n",
       "      <td>0.0</td>\n",
       "      <td>3.28</td>\n",
       "      <td>2.00</td>\n",
       "      <td>0.56</td>\n",
       "      <td>0.0</td>\n",
       "      <td>1</td>\n",
       "    </tr>\n",
       "    <tr>\n",
       "      <th>3</th>\n",
       "      <td>Defender</td>\n",
       "      <td>5.1</td>\n",
       "      <td>-0.4</td>\n",
       "      <td>1</td>\n",
       "      <td>1</td>\n",
       "      <td>0.00</td>\n",
       "      <td>0.00</td>\n",
       "      <td>0.00</td>\n",
       "      <td>0.00</td>\n",
       "      <td>0.00</td>\n",
       "      <td>...</td>\n",
       "      <td>0.00</td>\n",
       "      <td>0.00</td>\n",
       "      <td>0.00</td>\n",
       "      <td>0.00</td>\n",
       "      <td>0.0</td>\n",
       "      <td>7.00</td>\n",
       "      <td>3.00</td>\n",
       "      <td>1.00</td>\n",
       "      <td>0.0</td>\n",
       "      <td>0</td>\n",
       "    </tr>\n",
       "    <tr>\n",
       "      <th>4</th>\n",
       "      <td>Attacker</td>\n",
       "      <td>19.3</td>\n",
       "      <td>-0.5</td>\n",
       "      <td>19</td>\n",
       "      <td>19</td>\n",
       "      <td>4.05</td>\n",
       "      <td>1.95</td>\n",
       "      <td>0.21</td>\n",
       "      <td>1.63</td>\n",
       "      <td>0.53</td>\n",
       "      <td>...</td>\n",
       "      <td>2.00</td>\n",
       "      <td>0.32</td>\n",
       "      <td>0.74</td>\n",
       "      <td>0.05</td>\n",
       "      <td>0.0</td>\n",
       "      <td>0.42</td>\n",
       "      <td>0.47</td>\n",
       "      <td>0.58</td>\n",
       "      <td>0.0</td>\n",
       "      <td>23</td>\n",
       "    </tr>\n",
       "  </tbody>\n",
       "</table>\n",
       "<p>5 rows × 21 columns</p>\n",
       "</div>"
      ],
      "text/plain": [
       "        pos    cr  plus  apps  starter  shots  on_tar_shots  pen_goals  \\\n",
       "0  Defender  15.4   0.9     6        6   2.17          1.00       0.00   \n",
       "1  Defender  20.2   3.5    17       17   1.65          0.59       0.00   \n",
       "2  Defender  21.9   4.3    18       18   2.22          0.83       0.00   \n",
       "3  Defender   5.1  -0.4     1        1   0.00          0.00       0.00   \n",
       "4  Attacker  19.3  -0.5    19       19   4.05          1.95       0.21   \n",
       "\n",
       "   successful_dribbles   ast  ...  key_pass  fouls  was_fouled    yc   rc  \\\n",
       "0                 0.50  0.17  ...      1.67   1.67        2.50  0.00  0.0   \n",
       "1                 0.47  0.47  ...      3.12   0.29        0.29  0.06  0.0   \n",
       "2                 1.22  0.22  ...      1.11   0.89        0.44  0.28  0.0   \n",
       "3                 0.00  0.00  ...      0.00   0.00        0.00  0.00  0.0   \n",
       "4                 1.63  0.53  ...      2.00   0.32        0.74  0.05  0.0   \n",
       "\n",
       "   rec_ball  tackles  clean_sheets  saves  total_goals  \n",
       "0      1.17     1.33          0.67    0.0            3  \n",
       "1      2.29     1.29          0.59    0.0            2  \n",
       "2      3.28     2.00          0.56    0.0            1  \n",
       "3      7.00     3.00          1.00    0.0            0  \n",
       "4      0.42     0.47          0.58    0.0           23  \n",
       "\n",
       "[5 rows x 21 columns]"
      ]
     },
     "execution_count": 405,
     "metadata": {},
     "output_type": "execute_result"
    }
   ],
   "source": [
    "df.head()"
   ]
  },
  {
   "cell_type": "code",
   "execution_count": 406,
   "metadata": {},
   "outputs": [],
   "source": [
    "X = df.drop('total_goals', axis=1)\n",
    "y = df['total_goals']\n",
    "\n",
    "X_encoded = pd.get_dummies(X)\n",
    "\n",
    "X_train, X_test, y_train, y_test = train_test_split(X_encoded, y, test_size=0.2, random_state=11)\n",
    "\n",
    "scaler = StandardScaler()\n",
    "X_train_scaled = scaler.fit_transform(X_train)\n",
    "X_test_scaled = scaler.transform(X_test)\n"
   ]
  },
  {
   "cell_type": "code",
   "execution_count": 407,
   "metadata": {},
   "outputs": [
    {
     "name": "stdout",
     "output_type": "stream",
     "text": [
      "<class 'pandas.core.frame.DataFrame'>\n",
      "Int64Index: 1153 entries, 1006 to 1104\n",
      "Data columns (total 23 columns):\n",
      " #   Column               Non-Null Count  Dtype  \n",
      "---  ------               --------------  -----  \n",
      " 0   cr                   1153 non-null   float64\n",
      " 1   plus                 1153 non-null   float64\n",
      " 2   apps                 1153 non-null   int64  \n",
      " 3   starter              1153 non-null   int64  \n",
      " 4   shots                1153 non-null   float64\n",
      " 5   on_tar_shots         1153 non-null   float64\n",
      " 6   pen_goals            1153 non-null   float64\n",
      " 7   successful_dribbles  1153 non-null   float64\n",
      " 8   ast                  1153 non-null   float64\n",
      " 9   acc_pass             1153 non-null   float64\n",
      " 10  key_pass             1153 non-null   float64\n",
      " 11  fouls                1153 non-null   float64\n",
      " 12  was_fouled           1153 non-null   float64\n",
      " 13  yc                   1153 non-null   float64\n",
      " 14  rc                   1153 non-null   float64\n",
      " 15  rec_ball             1153 non-null   float64\n",
      " 16  tackles              1153 non-null   float64\n",
      " 17  clean_sheets         1153 non-null   float64\n",
      " 18  saves                1153 non-null   float64\n",
      " 19  pos_Attacker         1153 non-null   uint8  \n",
      " 20  pos_Defender         1153 non-null   uint8  \n",
      " 21  pos_Goalkeeper       1153 non-null   uint8  \n",
      " 22  pos_Midfielder       1153 non-null   uint8  \n",
      "dtypes: float64(17), int64(2), uint8(4)\n",
      "memory usage: 184.7 KB\n"
     ]
    }
   ],
   "source": [
    "X_train.info()"
   ]
  },
  {
   "cell_type": "code",
   "execution_count": 408,
   "metadata": {},
   "outputs": [],
   "source": [
    "model = tf.keras.Sequential([\n",
    "    tf.keras.layers.Dense(256, activation='relu', input_shape=(X_train_scaled.shape[1],)),\n",
    "    tf.keras.layers.Dense(128, activation='relu'),\n",
    "    tf.keras.layers.Dense(64, activation='relu'),\n",
    "    tf.keras.layers.Dense(64, activation='relu'),  # New layer\n",
    "    tf.keras.layers.Dense(32, activation='relu'),\n",
    "    tf.keras.layers.Dense(32, activation='relu'),  # New layer\n",
    "    tf.keras.layers.Dense(1)  \n",
    "])\n",
    "\n",
    "model.compile(optimizer='adam',\n",
    "              loss='mean_squared_error',\n",
    "              metrics=['mean_absolute_error'])\n"
   ]
  },
  {
   "cell_type": "code",
   "execution_count": 409,
   "metadata": {},
   "outputs": [
    {
     "name": "stdout",
     "output_type": "stream",
     "text": [
      "Epoch 1/5\n"
     ]
    },
    {
     "name": "stdout",
     "output_type": "stream",
     "text": [
      "29/29 [==============================] - 0s 3ms/step - loss: 6.6612 - mean_absolute_error: 1.5886 - val_loss: 4.8707 - val_mean_absolute_error: 1.2436\n",
      "Epoch 2/5\n",
      "29/29 [==============================] - 0s 1ms/step - loss: 2.7528 - mean_absolute_error: 1.0179 - val_loss: 3.5687 - val_mean_absolute_error: 1.1291\n",
      "Epoch 3/5\n",
      "29/29 [==============================] - 0s 1ms/step - loss: 1.9538 - mean_absolute_error: 0.9009 - val_loss: 3.5259 - val_mean_absolute_error: 1.0889\n",
      "Epoch 4/5\n",
      "29/29 [==============================] - 0s 1ms/step - loss: 1.7000 - mean_absolute_error: 0.8170 - val_loss: 2.6384 - val_mean_absolute_error: 0.9424\n",
      "Epoch 5/5\n",
      "29/29 [==============================] - 0s 1ms/step - loss: 1.2953 - mean_absolute_error: 0.7344 - val_loss: 2.4717 - val_mean_absolute_error: 0.9471\n"
     ]
    }
   ],
   "source": [
    "history = model.fit(X_train_scaled, y_train, epochs=5, validation_split=0.2)\n"
   ]
  },
  {
   "cell_type": "code",
   "execution_count": 410,
   "metadata": {},
   "outputs": [
    {
     "name": "stdout",
     "output_type": "stream",
     "text": [
      "10/10 [==============================] - 0s 560us/step - loss: 2.1227 - mean_absolute_error: 0.8247\n"
     ]
    },
    {
     "data": {
      "text/plain": [
       "[2.1226890087127686, 0.8246508240699768]"
      ]
     },
     "execution_count": 410,
     "metadata": {},
     "output_type": "execute_result"
    }
   ],
   "source": [
    "model.evaluate(X_test_scaled, y_test)"
   ]
  },
  {
   "cell_type": "code",
   "execution_count": 411,
   "metadata": {},
   "outputs": [
    {
     "name": "stdout",
     "output_type": "stream",
     "text": [
      "10/10 [==============================] - 0s 492us/step\n"
     ]
    }
   ],
   "source": [
    "predictions = model.predict(X_test_scaled)\n"
   ]
  },
  {
   "cell_type": "code",
   "execution_count": 412,
   "metadata": {},
   "outputs": [],
   "source": [
    "features = X_train.columns"
   ]
  },
  {
   "cell_type": "code",
   "execution_count": 413,
   "metadata": {},
   "outputs": [
    {
     "name": "stdout",
     "output_type": "stream",
     "text": [
      "46/46 [==============================] - 0s 505us/step\n"
     ]
    }
   ],
   "source": [
    "# One-hot encode categorical columns in `data` (assuming 'Position' is the original categorical column)\n",
    "data_encoded = pd.get_dummies(data, columns=['pos'])\n",
    "\n",
    "# Now, ensure that `data_encoded` has the same features as used in the model training\n",
    "# You might need to add missing columns with zeros if they are not present in the `data` DataFrame\n",
    "missing_cols = set(X_train.columns) - set(data_encoded.columns)\n",
    "for col in missing_cols:\n",
    "    data_encoded[col] = 0\n",
    "\n",
    "# Ensure the order of columns matches that of the training set\n",
    "data_encoded = data_encoded[X_train.columns]\n",
    "\n",
    "# Now, you can use the model to predict\n",
    "data['PredictedGoals'] = model.predict(scaler.fit_transform(data_encoded))\n"
   ]
  },
  {
   "cell_type": "code",
   "execution_count": 414,
   "metadata": {},
   "outputs": [],
   "source": [
    "data['PredictedGoals'] = round(data['PredictedGoals'])"
   ]
  },
  {
   "cell_type": "code",
   "execution_count": 415,
   "metadata": {},
   "outputs": [
    {
     "name": "stdout",
     "output_type": "stream",
     "text": [
      "The Predicted Goal scorer is Mohamed Salah with 22.0 goals, and the actual top goal scorer is Mohamed Salah with 23 goals.\n",
      "The Predicted Top 5 Goal Scorers are:\n",
      "            player  PredictedGoals\n",
      "964  Mohamed Salah            22.0\n",
      "482        H. Kane            21.0\n",
      "4    Mohamed Salah            20.0\n",
      "963       J. Vardy            20.0\n",
      "966    M. Rashford            19.0\n",
      "The Actual Top 5 Goal Scorers are:\n",
      "            player  total_goals\n",
      "4    Mohamed Salah           23\n",
      "37   Son Heung-Min           23\n",
      "482        H. Kane           23\n",
      "963       J. Vardy           23\n",
      "501  Mohamed Salah           22\n"
     ]
    }
   ],
   "source": [
    "top_scorer_index = data['PredictedGoals'].idxmax()\n",
    "top_scorer = data.loc[top_scorer_index, ['player', 'PredictedGoals']]\n",
    "\n",
    "top_scorer_a_index = data['total_goals'].idxmax()\n",
    "top_scorer_a = data.loc[top_scorer_a_index, ['player', 'total_goals']]\n",
    "\n",
    "print(f\"The Predicted Goal scorer is {top_scorer['player']} with {top_scorer['PredictedGoals']} goals, and the actual top goal scorer is {top_scorer_a['player']} with {top_scorer_a['total_goals']} goals.\")\n",
    "\n",
    "top_scorer_indices = data['PredictedGoals'].nlargest(5).index\n",
    "top_scorers = data.loc[top_scorer_indices, ['player', 'PredictedGoals']]\n",
    "\n",
    "top_scorer_actual_indices = data['total_goals'].nlargest(5).index\n",
    "top_scorers_actual = data.loc[top_scorer_actual_indices, ['player', 'total_goals']]\n",
    "\n",
    "print(\"The Predicted Top 5 Goal Scorers are:\")\n",
    "print(top_scorers)\n",
    "print(\"The Actual Top 5 Goal Scorers are:\")\n",
    "print(top_scorers_actual)\n"
   ]
  },
  {
   "cell_type": "code",
   "execution_count": 416,
   "metadata": {},
   "outputs": [
    {
     "ename": "ValueError",
     "evalue": "Boolean array expected for the condition, not int64",
     "output_type": "error",
     "traceback": [
      "\u001b[0;31m---------------------------------------------------------------------------\u001b[0m",
      "\u001b[0;31mValueError\u001b[0m                                Traceback (most recent call last)",
      "\u001b[1;32m/Users/oluwasegunadegoke/Desktop/OR-568/Final/Neural_Network.ipynb Cell 18\u001b[0m line \u001b[0;36m1\n\u001b[1;32m      <a href='vscode-notebook-cell:/Users/oluwasegunadegoke/Desktop/OR-568/Final/Neural_Network.ipynb#X16sZmlsZQ%3D%3D?line=7'>8</a>\u001b[0m     encoded1[col] \u001b[39m=\u001b[39m \u001b[39m0\u001b[39m\n\u001b[1;32m     <a href='vscode-notebook-cell:/Users/oluwasegunadegoke/Desktop/OR-568/Final/Neural_Network.ipynb#X16sZmlsZQ%3D%3D?line=9'>10</a>\u001b[0m data_encoded1 \u001b[39m=\u001b[39m encoded1[X_train\u001b[39m.\u001b[39mcolumns]\n\u001b[0;32m---> <a href='vscode-notebook-cell:/Users/oluwasegunadegoke/Desktop/OR-568/Final/Neural_Network.ipynb#X16sZmlsZQ%3D%3D?line=11'>12</a>\u001b[0m serie_test[\u001b[39m'\u001b[39m\u001b[39mPredictedGoals\u001b[39m\u001b[39m'\u001b[39m] \u001b[39m=\u001b[39m model\u001b[39m.\u001b[39mpredict(scaler\u001b[39m.\u001b[39mfit_transform(serie_test[encoded1]))\n\u001b[1;32m     <a href='vscode-notebook-cell:/Users/oluwasegunadegoke/Desktop/OR-568/Final/Neural_Network.ipynb#X16sZmlsZQ%3D%3D?line=13'>14</a>\u001b[0m serie_test[\u001b[39m'\u001b[39m\u001b[39mPredictedGoals\u001b[39m\u001b[39m'\u001b[39m] \u001b[39m=\u001b[39m \u001b[39mround\u001b[39m(serie_test[\u001b[39m'\u001b[39m\u001b[39mPredictedGoals\u001b[39m\u001b[39m'\u001b[39m])\n\u001b[1;32m     <a href='vscode-notebook-cell:/Users/oluwasegunadegoke/Desktop/OR-568/Final/Neural_Network.ipynb#X16sZmlsZQ%3D%3D?line=15'>16</a>\u001b[0m top_serie_index \u001b[39m=\u001b[39m serie_test[\u001b[39m'\u001b[39m\u001b[39mPredictedGoals\u001b[39m\u001b[39m'\u001b[39m]\u001b[39m.\u001b[39midxmax()\n",
      "File \u001b[0;32m~/anaconda3/lib/python3.11/site-packages/pandas/core/frame.py:3794\u001b[0m, in \u001b[0;36mDataFrame.__getitem__\u001b[0;34m(self, key)\u001b[0m\n\u001b[1;32m   3792\u001b[0m \u001b[39m# Do we have a (boolean) DataFrame?\u001b[39;00m\n\u001b[1;32m   3793\u001b[0m \u001b[39mif\u001b[39;00m \u001b[39misinstance\u001b[39m(key, DataFrame):\n\u001b[0;32m-> 3794\u001b[0m     \u001b[39mreturn\u001b[39;00m \u001b[39mself\u001b[39m\u001b[39m.\u001b[39mwhere(key)\n\u001b[1;32m   3796\u001b[0m \u001b[39m# Do we have a (boolean) 1d indexer?\u001b[39;00m\n\u001b[1;32m   3797\u001b[0m \u001b[39mif\u001b[39;00m com\u001b[39m.\u001b[39mis_bool_indexer(key):\n",
      "File \u001b[0;32m~/anaconda3/lib/python3.11/site-packages/pandas/util/_decorators.py:211\u001b[0m, in \u001b[0;36mdeprecate_kwarg.<locals>._deprecate_kwarg.<locals>.wrapper\u001b[0;34m(*args, **kwargs)\u001b[0m\n\u001b[1;32m    209\u001b[0m     \u001b[39melse\u001b[39;00m:\n\u001b[1;32m    210\u001b[0m         kwargs[new_arg_name] \u001b[39m=\u001b[39m new_arg_value\n\u001b[0;32m--> 211\u001b[0m \u001b[39mreturn\u001b[39;00m func(\u001b[39m*\u001b[39margs, \u001b[39m*\u001b[39m\u001b[39m*\u001b[39mkwargs)\n",
      "File \u001b[0;32m~/anaconda3/lib/python3.11/site-packages/pandas/util/_decorators.py:331\u001b[0m, in \u001b[0;36mdeprecate_nonkeyword_arguments.<locals>.decorate.<locals>.wrapper\u001b[0;34m(*args, **kwargs)\u001b[0m\n\u001b[1;32m    325\u001b[0m \u001b[39mif\u001b[39;00m \u001b[39mlen\u001b[39m(args) \u001b[39m>\u001b[39m num_allow_args:\n\u001b[1;32m    326\u001b[0m     warnings\u001b[39m.\u001b[39mwarn(\n\u001b[1;32m    327\u001b[0m         msg\u001b[39m.\u001b[39mformat(arguments\u001b[39m=\u001b[39m_format_argument_list(allow_args)),\n\u001b[1;32m    328\u001b[0m         \u001b[39mFutureWarning\u001b[39;00m,\n\u001b[1;32m    329\u001b[0m         stacklevel\u001b[39m=\u001b[39mfind_stack_level(),\n\u001b[1;32m    330\u001b[0m     )\n\u001b[0;32m--> 331\u001b[0m \u001b[39mreturn\u001b[39;00m func(\u001b[39m*\u001b[39margs, \u001b[39m*\u001b[39m\u001b[39m*\u001b[39mkwargs)\n",
      "File \u001b[0;32m~/anaconda3/lib/python3.11/site-packages/pandas/core/frame.py:11923\u001b[0m, in \u001b[0;36mDataFrame.where\u001b[0;34m(self, cond, other, inplace, axis, level, errors, try_cast)\u001b[0m\n\u001b[1;32m  11909\u001b[0m \u001b[39m@deprecate_kwarg\u001b[39m(old_arg_name\u001b[39m=\u001b[39m\u001b[39m\"\u001b[39m\u001b[39merrors\u001b[39m\u001b[39m\"\u001b[39m, new_arg_name\u001b[39m=\u001b[39m\u001b[39mNone\u001b[39;00m)\n\u001b[1;32m  11910\u001b[0m \u001b[39m@deprecate_nonkeyword_arguments\u001b[39m(\n\u001b[1;32m  11911\u001b[0m     version\u001b[39m=\u001b[39m\u001b[39mNone\u001b[39;00m, allowed_args\u001b[39m=\u001b[39m[\u001b[39m\"\u001b[39m\u001b[39mself\u001b[39m\u001b[39m\"\u001b[39m, \u001b[39m\"\u001b[39m\u001b[39mcond\u001b[39m\u001b[39m\"\u001b[39m, \u001b[39m\"\u001b[39m\u001b[39mother\u001b[39m\u001b[39m\"\u001b[39m]\n\u001b[0;32m   (...)\u001b[0m\n\u001b[1;32m  11921\u001b[0m     try_cast: \u001b[39mbool\u001b[39m \u001b[39m|\u001b[39m lib\u001b[39m.\u001b[39mNoDefault \u001b[39m=\u001b[39m lib\u001b[39m.\u001b[39mno_default,\n\u001b[1;32m  11922\u001b[0m ) \u001b[39m-\u001b[39m\u001b[39m>\u001b[39m DataFrame \u001b[39m|\u001b[39m \u001b[39mNone\u001b[39;00m:\n\u001b[0;32m> 11923\u001b[0m     \u001b[39mreturn\u001b[39;00m \u001b[39msuper\u001b[39m()\u001b[39m.\u001b[39mwhere(\n\u001b[1;32m  11924\u001b[0m         cond,\n\u001b[1;32m  11925\u001b[0m         other,\n\u001b[1;32m  11926\u001b[0m         inplace\u001b[39m=\u001b[39minplace,\n\u001b[1;32m  11927\u001b[0m         axis\u001b[39m=\u001b[39maxis,\n\u001b[1;32m  11928\u001b[0m         level\u001b[39m=\u001b[39mlevel,\n\u001b[1;32m  11929\u001b[0m         try_cast\u001b[39m=\u001b[39mtry_cast,\n\u001b[1;32m  11930\u001b[0m     )\n",
      "File \u001b[0;32m~/anaconda3/lib/python3.11/site-packages/pandas/util/_decorators.py:211\u001b[0m, in \u001b[0;36mdeprecate_kwarg.<locals>._deprecate_kwarg.<locals>.wrapper\u001b[0;34m(*args, **kwargs)\u001b[0m\n\u001b[1;32m    209\u001b[0m     \u001b[39melse\u001b[39;00m:\n\u001b[1;32m    210\u001b[0m         kwargs[new_arg_name] \u001b[39m=\u001b[39m new_arg_value\n\u001b[0;32m--> 211\u001b[0m \u001b[39mreturn\u001b[39;00m func(\u001b[39m*\u001b[39margs, \u001b[39m*\u001b[39m\u001b[39m*\u001b[39mkwargs)\n",
      "File \u001b[0;32m~/anaconda3/lib/python3.11/site-packages/pandas/util/_decorators.py:331\u001b[0m, in \u001b[0;36mdeprecate_nonkeyword_arguments.<locals>.decorate.<locals>.wrapper\u001b[0;34m(*args, **kwargs)\u001b[0m\n\u001b[1;32m    325\u001b[0m \u001b[39mif\u001b[39;00m \u001b[39mlen\u001b[39m(args) \u001b[39m>\u001b[39m num_allow_args:\n\u001b[1;32m    326\u001b[0m     warnings\u001b[39m.\u001b[39mwarn(\n\u001b[1;32m    327\u001b[0m         msg\u001b[39m.\u001b[39mformat(arguments\u001b[39m=\u001b[39m_format_argument_list(allow_args)),\n\u001b[1;32m    328\u001b[0m         \u001b[39mFutureWarning\u001b[39;00m,\n\u001b[1;32m    329\u001b[0m         stacklevel\u001b[39m=\u001b[39mfind_stack_level(),\n\u001b[1;32m    330\u001b[0m     )\n\u001b[0;32m--> 331\u001b[0m \u001b[39mreturn\u001b[39;00m func(\u001b[39m*\u001b[39margs, \u001b[39m*\u001b[39m\u001b[39m*\u001b[39mkwargs)\n",
      "File \u001b[0;32m~/anaconda3/lib/python3.11/site-packages/pandas/core/generic.py:9968\u001b[0m, in \u001b[0;36mNDFrame.where\u001b[0;34m(self, cond, other, inplace, axis, level, errors, try_cast)\u001b[0m\n\u001b[1;32m   9960\u001b[0m \u001b[39mif\u001b[39;00m try_cast \u001b[39mis\u001b[39;00m \u001b[39mnot\u001b[39;00m lib\u001b[39m.\u001b[39mno_default:\n\u001b[1;32m   9961\u001b[0m     warnings\u001b[39m.\u001b[39mwarn(\n\u001b[1;32m   9962\u001b[0m         \u001b[39m\"\u001b[39m\u001b[39mtry_cast keyword is deprecated and will be removed in a \u001b[39m\u001b[39m\"\u001b[39m\n\u001b[1;32m   9963\u001b[0m         \u001b[39m\"\u001b[39m\u001b[39mfuture version.\u001b[39m\u001b[39m\"\u001b[39m,\n\u001b[1;32m   9964\u001b[0m         \u001b[39mFutureWarning\u001b[39;00m,\n\u001b[1;32m   9965\u001b[0m         stacklevel\u001b[39m=\u001b[39mfind_stack_level(),\n\u001b[1;32m   9966\u001b[0m     )\n\u001b[0;32m-> 9968\u001b[0m \u001b[39mreturn\u001b[39;00m \u001b[39mself\u001b[39m\u001b[39m.\u001b[39m_where(cond, other, inplace, axis, level)\n",
      "File \u001b[0;32m~/anaconda3/lib/python3.11/site-packages/pandas/core/generic.py:9657\u001b[0m, in \u001b[0;36mNDFrame._where\u001b[0;34m(self, cond, other, inplace, axis, level)\u001b[0m\n\u001b[1;32m   9655\u001b[0m         \u001b[39mfor\u001b[39;00m dt \u001b[39min\u001b[39;00m cond\u001b[39m.\u001b[39mdtypes:\n\u001b[1;32m   9656\u001b[0m             \u001b[39mif\u001b[39;00m \u001b[39mnot\u001b[39;00m is_bool_dtype(dt):\n\u001b[0;32m-> 9657\u001b[0m                 \u001b[39mraise\u001b[39;00m \u001b[39mValueError\u001b[39;00m(msg\u001b[39m.\u001b[39mformat(dtype\u001b[39m=\u001b[39mdt))\n\u001b[1;32m   9658\u001b[0m \u001b[39melse\u001b[39;00m:\n\u001b[1;32m   9659\u001b[0m     \u001b[39m# GH#21947 we have an empty DataFrame/Series, could be object-dtype\u001b[39;00m\n\u001b[1;32m   9660\u001b[0m     cond \u001b[39m=\u001b[39m cond\u001b[39m.\u001b[39mastype(\u001b[39mbool\u001b[39m)\n",
      "\u001b[0;31mValueError\u001b[0m: Boolean array expected for the condition, not int64"
     ]
    }
   ],
   "source": [
    "serie_test = pd.read_csv('Serie_A.csv')\n",
    "serie_test = serie_test.rename(columns={'Goals_x': 'goal_per_game', 'Goals_y': 'total_goals'})\n",
    "serie_test = clean_names(serie_test)\n",
    "encoded1 = pd.get_dummies(serie_test, columns=['pos'])\n",
    "missing = set(X_train.columns) - set(encoded1.columns)\n",
    "\n",
    "for col in missing:\n",
    "    encoded1[col] = 0\n",
    "\n",
    "data_encoded1 = encoded1[X_train.columns]\n",
    "\n",
    "serie_test['PredictedGoals'] = model.predict(scaler.fit_transform(serie_test[encoded1]))\n",
    "\n",
    "serie_test['PredictedGoals'] = round(serie_test['PredictedGoals'])\n",
    "\n",
    "top_serie_index = serie_test['PredictedGoals'].idxmax()\n",
    "top_serie = serie_test.loc[top_serie_index, ['player', 'PredictedGoals']]\n",
    "\n",
    "top_serie_a_index = serie_test['total_goals'].idxmax()\n",
    "top_serie_a = serie_test.loc[top_serie_a_index, ['player', 'total_goals']]\n",
    "\n",
    "print(f\"The Predicted Goal scorer is {top_serie['player']} with {top_serie['PredictedGoals']} goals, and the actual top goal scorer is {top_serie_a['player']} with {top_serie_a['total_goals']} goals.\")"
   ]
  },
  {
   "cell_type": "code",
   "execution_count": 417,
   "metadata": {},
   "outputs": [
    {
     "name": "stdout",
     "output_type": "stream",
     "text": [
      "16/16 [==============================] - 0s 496us/step\n",
      "The Predicted Goal scorer is V. Osimhen with 24.0 goals, and the actual top goal scorer is V. Osimhen with 26 goals.\n"
     ]
    }
   ],
   "source": [
    "# Your existing code for encoding and preparing the data\n",
    "serie_test = pd.read_csv('Serie_A.csv')\n",
    "serie_test = serie_test.rename(columns={'Goals_x': 'goal_per_game', 'Goals_y': 'total_goals'})\n",
    "serie_test = clean_names(serie_test)\n",
    "encoded1 = pd.get_dummies(serie_test, columns=['pos'])\n",
    "missing = set(X_train.columns) - set(encoded1.columns)\n",
    "\n",
    "for col in missing:\n",
    "    encoded1[col] = 0\n",
    "\n",
    "data_encoded1 = encoded1[X_train.columns]\n",
    "\n",
    "# Corrected prediction step\n",
    "# Use 'data_encoded1' for the prediction\n",
    "serie_test['PredictedGoals'] = model.predict(scaler.fit_transform(data_encoded1))\n",
    "\n",
    "# Rounding off the predicted goals\n",
    "serie_test['PredictedGoals'] = round(serie_test['PredictedGoals'])\n",
    "\n",
    "# Finding the top predicted and actual goal scorers\n",
    "top_serie_index = serie_test['PredictedGoals'].idxmax()\n",
    "top_serie = serie_test.loc[top_serie_index, ['player', 'PredictedGoals']]\n",
    "\n",
    "top_serie_a_index = serie_test['total_goals'].idxmax()\n",
    "top_serie_a = serie_test.loc[top_serie_a_index, ['player', 'total_goals']]\n",
    "\n",
    "# Printing the results\n",
    "print(f\"The Predicted Goal scorer is {top_serie['player']} with {top_serie['PredictedGoals']} goals, and the actual top goal scorer is {top_serie_a['player']} with {top_serie_a['total_goals']} goals.\")\n"
   ]
  },
  {
   "cell_type": "code",
   "execution_count": 418,
   "metadata": {},
   "outputs": [
    {
     "name": "stdout",
     "output_type": "stream",
     "text": [
      "The Predicted Goal scorer is V. Osimhen with 24.0 goals, and the actual top goal scorer is V. Osimhen with 26 goals.\n",
      "The Predicted Top 5 Goal Scorers are:\n",
      "              player  PredictedGoals\n",
      "1         V. Osimhen            24.0\n",
      "24        M. Lautaro            18.0\n",
      "0   K. Kvaratskhelia            14.0\n",
      "18       D. Vlahovic            14.0\n",
      "39       C. Immobile            14.0\n",
      "3          P. Dybala            13.0\n",
      "6        M. Zaccagni            13.0\n",
      "The Actual Top 5 Goal Scorers are:\n",
      "              player  total_goals\n",
      "1         V. Osimhen           26\n",
      "24        M. Lautaro           21\n",
      "17           R. Leao           15\n",
      "20        A. Lookman           13\n",
      "88  M&#39;Bala Nzola           13\n",
      "97         O. Giroud           13\n",
      "0   K. Kvaratskhelia           12\n"
     ]
    }
   ],
   "source": [
    "top_scorer_index2 = serie_test['PredictedGoals'].idxmax()\n",
    "top_scorer2 = serie_test.loc[top_scorer_index2, ['player', 'PredictedGoals']]\n",
    "\n",
    "top_scorer_a_index2 = serie_test['total_goals'].idxmax()\n",
    "top_scorer_a2 = serie_test.loc[top_scorer_a_index2, ['player', 'total_goals']]\n",
    "\n",
    "print(f\"The Predicted Goal scorer is {top_scorer2['player']} with {top_scorer2['PredictedGoals']} goals, and the actual top goal scorer is {top_scorer_a2['player']} with {top_scorer_a2['total_goals']} goals.\")\n",
    "\n",
    "top_scorer_indices2 = serie_test['PredictedGoals'].nlargest(7).index\n",
    "top_scorers2 = serie_test.loc[top_scorer_indices2, ['player', 'PredictedGoals']]\n",
    "\n",
    "\n",
    "top_scorer_actual_indices2 = serie_test['total_goals'].nlargest(7).index\n",
    "top_scorers_actual2 = serie_test.loc[top_scorer_actual_indices2, ['player', 'total_goals']]\n",
    "\n",
    "print(\"The Predicted Top 5 Goal Scorers are:\")\n",
    "print(top_scorers2)\n",
    "print(\"The Actual Top 5 Goal Scorers are:\")\n",
    "print(top_scorers_actual2)"
   ]
  },
  {
   "cell_type": "code",
   "execution_count": null,
   "metadata": {},
   "outputs": [
    {
     "data": {
      "image/png": "[encoded data removed]",
      "text/plain": [
       "<IPython.core.display.Image object>"
      ]
     },
     "execution_count": 148,
     "metadata": {},
     "output_type": "execute_result"
    }
   ],
   "source": [
    "from tensorflow.keras.utils import plot_model\n",
    "\n",
    "plot_model(model, to_file='model_plot.png', show_shapes=True, show_layer_names=True)\n"
   ]
  },
  {
   "cell_type": "code",
   "execution_count": null,
   "metadata": {},
   "outputs": [
    {
     "data": {
      "image/png": "[encoded data removed]",
      "text/plain": [
       "<Figure size 1200x400 with 2 Axes>"
      ]
     },
     "metadata": {},
     "output_type": "display_data"
    }
   ],
   "source": [
    "import matplotlib.pyplot as plt\n",
    "\n",
    "plt.figure(figsize=(12, 4))\n",
    "\n",
    "plt.subplot(1, 2, 1)\n",
    "plt.plot(history.history['mean_absolute_error'])\n",
    "plt.plot(history.history['val_mean_absolute_error'])\n",
    "plt.title('Model Mean Absolute Error')\n",
    "plt.ylabel('Mean Absolute Error')\n",
    "plt.xlabel('Epoch')\n",
    "plt.legend(['Train', 'Test'], loc='upper left')\n",
    "\n",
    "plt.subplot(1, 2, 2)\n",
    "plt.plot(history.history['loss'])\n",
    "plt.plot(history.history['val_loss'])\n",
    "plt.title('Model Loss')\n",
    "plt.ylabel('Loss')\n",
    "plt.xlabel('Epoch')\n",
    "plt.legend(['Train', 'Test'], loc='upper left')\n",
    "\n",
    "plt.show()\n"
   ]
  },
  {
   "cell_type": "code",
   "execution_count": null,
   "metadata": {},
   "outputs": [
    {
     "data": {
      "text/plain": [
       "1.5254812025416402"
      ]
     },
     "execution_count": 302,
     "metadata": {},
     "output_type": "execute_result"
    }
   ],
   "source": [
    "from sklearn.metrics import mean_squared_error\n",
    "from math import sqrt\n",
    "\n",
    "rmse = sqrt(mean_squared_error(y_test, predictions))\n",
    "rmse\n"
   ]
  },
  {
   "cell_type": "code",
   "execution_count": null,
   "metadata": {},
   "outputs": [],
   "source": [
    "from sklearn.metrics import confusion_matrix\n",
    "\n",
    "# Convert continuous predictions to categorical if necessary\n",
    "# For example, for a binary classification with a threshold of 0.5\n",
    "predictions_categorical = np.rint(predictions).astype(int)\n",
    "conf_matrix = confusion_matrix(y_test, predictions_categorical)\n"
   ]
  },
  {
   "cell_type": "code",
   "execution_count": null,
   "metadata": {},
   "outputs": [],
   "source": [
    "accuracy = (conf_matrix[0][0] + conf_matrix[1][1]) / conf_matrix.sum()"
   ]
  },
  {
   "cell_type": "code",
   "execution_count": null,
   "metadata": {},
   "outputs": [
    {
     "data": {
      "text/plain": [
       "0.47750865051903113"
      ]
     },
     "execution_count": 305,
     "metadata": {},
     "output_type": "execute_result"
    }
   ],
   "source": [
    "accuracy"
   ]
  },
  {
   "cell_type": "code",
   "execution_count": null,
   "metadata": {},
   "outputs": [
    {
     "data": {
      "text/plain": [
       "1.3349747849111413"
      ]
     },
     "execution_count": 290,
     "metadata": {},
     "output_type": "execute_result"
    }
   ],
   "source": [
    "rmse = sqrt(mean_squared_error(serie_test['total_goals'], serie_test['PredictedGoals']))\n",
    "rmse"
   ]
  },
  {
   "cell_type": "code",
   "execution_count": null,
   "metadata": {},
   "outputs": [
    {
     "data": {
      "text/plain": [
       "0.4809688581314879"
      ]
     },
     "execution_count": 291,
     "metadata": {},
     "output_type": "execute_result"
    }
   ],
   "source": [
    "predictions_categorical2 = np.rint(serie_test['PredictedGoals']).astype(int)\n",
    "conf_matrix2 = confusion_matrix(serie_test['total_goals'], predictions_categorical2)\n",
    "accuracy2 = (conf_matrix[0][0] + conf_matrix[1][1]) / conf_matrix.sum()\n",
    "accuracy2"
   ]
  },
  {
   "cell_type": "code",
   "execution_count": null,
   "metadata": {},
   "outputs": [],
   "source": []
  }
 ],
 "metadata": {
  "kernelspec": {
   "display_name": "base",
   "language": "python",
   "name": "python3"
  },
  "language_info": {
   "codemirror_mode": {
    "name": "ipython",
    "version": 3
   },
   "file_extension": ".py",
   "mimetype": "text/x-python",
   "name": "python",
   "nbconvert_exporter": "python",
   "pygments_lexer": "ipython3",
   "version": "3.11.4"
  }
 },
 "nbformat": 4,
 "nbformat_minor": 2
}
